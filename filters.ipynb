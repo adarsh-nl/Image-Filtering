{
 "cells": [
  {
   "cell_type": "code",
   "execution_count": 83,
   "metadata": {},
   "outputs": [
    {
     "name": "stdout",
     "output_type": "stream",
     "text": [
      "The shape of the image is: (933, 1400)\n",
      "The number of rows and the colums in the image are: 933, 1400\n",
      "\n",
      "The filter for the image is:\n",
      " [[0.11111111 0.11111111 0.11111111]\n",
      " [0.11111111 0.11111111 0.11111111]\n",
      " [0.11111111 0.11111111 0.11111111]]\n"
     ]
    }
   ],
   "source": [
    "from PIL import Image, ImageOps\n",
    "import numpy as np\n",
    "import matplotlib.pyplot as plt\n",
    "\n",
    "image = Image.open(\"/home/adarsh/Downloads/Semester 1/AIKR/abc/avengers.jpg\")\n",
    "#image.show()\n",
    "image = ImageOps.grayscale(image)\n",
    "#image = image.resize(size=(400,700))\n",
    "image = np.array(image)\n",
    "rows = image.shape[0]\n",
    "colums = image.shape[1]\n",
    "print(\"The shape of the image is: {}\".format(image.shape))\n",
    "print(\"The number of rows and the colums in the image are: {}, {}\".format(rows, colums))\n",
    "\n",
    "\n",
    "#filter is of shape (3, 3)\n",
    "kernel_size = 3\n",
    "filter = np.ones(shape=(kernel_size, kernel_size))\n",
    "filter /= filter.sum()\n",
    "print(\"\\nThe filter for the image is:\\n {}\".format(filter))"
   ]
  },
  {
   "cell_type": "code",
   "execution_count": 84,
   "metadata": {},
   "outputs": [],
   "source": [
    "class Image_Filter:\n",
    "    def __init__(self, image, filter):\n",
    "        self.image = image\n",
    "        self.filter = filter\n",
    "        self._imageRows = image.shape[0]\n",
    "        self._imageColums = image.shape[1]\n",
    "        self._filterRows = filter.shape[0]\n",
    "        self._filterColums = filter.shape[1]\n",
    "\n",
    "    def __filtering__(self, _imageRows, _imageColums, _filterRows, _filterColums, image, kernel_size):\n",
    "        filtered_image = np.zeros(shape = (image.shape))\n",
    "        for m in range(kernel_size//2, self._imageRows-kernel_size//2):\n",
    "            for n in range(kernel_size//2, self._imageColums-kernel_size//2,):\n",
    "                filtered_image[m][n] =  np.median(image[m-kernel_size//2:m+kernel_size//2+1, n-kernel_size//2: n+kernel_size//2+1])\n",
    "        return filtered_image"
   ]
  },
  {
   "cell_type": "code",
   "execution_count": 85,
   "metadata": {},
   "outputs": [],
   "source": [
    "imageObject = Image_Filter(image, filter)\n",
    "\n",
    "filtered_image  = Image.fromarray(imageObject.__filtering__(imageObject._imageRows, imageObject._imageColums, imageObject._filterRows, imageObject._filterColums, image, kernel_size))"
   ]
  },
  {
   "cell_type": "code",
   "execution_count": 90,
   "metadata": {},
   "outputs": [
    {
     "name": "stderr",
     "output_type": "stream",
     "text": [
      "\n",
      "(eog:74883): Gtk-WARNING **: 19:50:40.989: Could not load a pixbuf from icon theme.\n",
      "This may indicate that pixbuf loaders or the mime database could not be found.\n"
     ]
    }
   ],
   "source": [
    "filtered_image.show()"
   ]
  },
  {
   "cell_type": "code",
   "execution_count": null,
   "metadata": {},
   "outputs": [],
   "source": []
  },
  {
   "cell_type": "code",
   "execution_count": null,
   "metadata": {},
   "outputs": [],
   "source": []
  }
 ],
 "metadata": {
  "kernelspec": {
   "display_name": "aikr",
   "language": "python",
   "name": "python3"
  },
  "language_info": {
   "codemirror_mode": {
    "name": "ipython",
    "version": 3
   },
   "file_extension": ".py",
   "mimetype": "text/x-python",
   "name": "python",
   "nbconvert_exporter": "python",
   "pygments_lexer": "ipython3",
   "version": "3.10.6"
  },
  "orig_nbformat": 4,
  "vscode": {
   "interpreter": {
    "hash": "b5cbcb2e7a436146f2ebede0c6fc49912a11acd898b062d94ddd451e1d545775"
   }
  }
 },
 "nbformat": 4,
 "nbformat_minor": 2
}
