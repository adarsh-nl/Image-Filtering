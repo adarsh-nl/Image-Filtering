{
 "cells": [
  {
   "cell_type": "code",
   "execution_count": 11,
   "metadata": {},
   "outputs": [],
   "source": [
    "DEBUG = False\n",
    "def debug(str):\n",
    "    if DEBUG:\n",
    "        print(str)"
   ]
  },
  {
   "cell_type": "code",
   "execution_count": 16,
   "metadata": {},
   "outputs": [
    {
     "name": "stdout",
     "output_type": "stream",
     "text": [
      "The shape of the image is: (933, 1400, 3)\n",
      "The number of rows and the colums in the image are: 933, 1400\n",
      "\n",
      "The filter for the image is: [[1. 1. 1.]\n",
      " [1. 1. 1.]\n",
      " [1. 1. 1.]]\n"
     ]
    },
    {
     "name": "stderr",
     "output_type": "stream",
     "text": [
      "\n",
      "(eog:64094): Gtk-WARNING **: 11:30:23.752: Could not load a pixbuf from icon theme.\n",
      "This may indicate that pixbuf loaders or the mime database could not be found.\n"
     ]
    }
   ],
   "source": [
    "from PIL import Image\n",
    "import numpy as np\n",
    "\n",
    "image = Image.open(\"/home/adarsh/Downloads/Semester 1/AIKR/abc/avengers.jpg\")\n",
    "image.show()\n",
    "image = np.array(image)\n",
    "rows = image.shape[0]\n",
    "colums = image.shape[1]\n",
    "print(\"The shape of the image is: {}\".format(image.shape))\n",
    "print(\"The number of rows and the colums in the image are: {}, {}\".format(rows, colums))\n",
    "\n",
    "\n",
    "#filter is of shape (3, 3)\n",
    "filter = np.ones(shape=(3, 3))\n",
    "print(\"\\nThe filter for the image is: {}\".format(filter))"
   ]
  },
  {
   "cell_type": "code",
   "execution_count": 12,
   "metadata": {},
   "outputs": [
    {
     "ename": "SyntaxError",
     "evalue": "incomplete input (2383031365.py, line 10)",
     "output_type": "error",
     "traceback": [
      "\u001b[0;36m  Input \u001b[0;32mIn [12]\u001b[0;36m\u001b[0m\n\u001b[0;31m    for j in range(colums):\u001b[0m\n\u001b[0m                           ^\u001b[0m\n\u001b[0;31mSyntaxError\u001b[0m\u001b[0;31m:\u001b[0m incomplete input\n"
     ]
    }
   ],
   "source": [
    "class Image_Filter:\n",
    "    def __init__(self):\n",
    "        pass\n",
    "    def filtering(self, image, filter):\n",
    "        rows = image.shape[0]\n",
    "        colums = image.shape[1]\n",
    "\n",
    "        filtered_image = np.zeros(shape = (rows-2, colums-2))\n",
    "\n",
    "        for i in range(rows):\n",
    "            for j in range(colums):\n"
   ]
  },
  {
   "cell_type": "code",
   "execution_count": null,
   "metadata": {},
   "outputs": [],
   "source": []
  },
  {
   "cell_type": "code",
   "execution_count": null,
   "metadata": {},
   "outputs": [],
   "source": []
  }
 ],
 "metadata": {
  "kernelspec": {
   "display_name": "aikr",
   "language": "python",
   "name": "python3"
  },
  "language_info": {
   "codemirror_mode": {
    "name": "ipython",
    "version": 3
   },
   "file_extension": ".py",
   "mimetype": "text/x-python",
   "name": "python",
   "nbconvert_exporter": "python",
   "pygments_lexer": "ipython3",
   "version": "3.10.6"
  },
  "orig_nbformat": 4,
  "vscode": {
   "interpreter": {
    "hash": "b5cbcb2e7a436146f2ebede0c6fc49912a11acd898b062d94ddd451e1d545775"
   }
  }
 },
 "nbformat": 4,
 "nbformat_minor": 2
}
